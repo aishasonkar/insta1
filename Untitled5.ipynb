{
  "nbformat": 4,
  "nbformat_minor": 0,
  "metadata": {
    "colab": {
      "name": "Untitled5.ipynb",
      "version": "0.3.2",
      "provenance": [],
      "collapsed_sections": []
    },
    "kernelspec": {
      "name": "python3",
      "display_name": "Python 3"
    }
  },
  "cells": [
    {
      "cell_type": "markdown",
      "metadata": {
        "id": "view-in-github",
        "colab_type": "text"
      },
      "source": [
        "[View in Colaboratory](https://colab.research.google.com/github/aishasonkar/insta1/blob/master/Untitled5.ipynb)"
      ]
    },
    {
      "metadata": {
        "id": "k2PSKTKQaZXt",
        "colab_type": "code",
        "colab": {}
      },
      "cell_type": "code",
      "source": [
        ""
      ],
      "execution_count": 0,
      "outputs": []
    },
    {
      "metadata": {
        "id": "JaJUhvOUaaKs",
        "colab_type": "text"
      },
      "cell_type": "markdown",
      "source": [
        "Q1. Consider the below given probabilities: \n",
        "P(A) = 11 / 36\n",
        "P(B) = 6 / 36\n",
        "P(A|B) = 2 / 36\n",
        "Write a function in Python which takes 3 probabilities as argument and outputs the Conditional probability P(B|A). "
      ]
    },
    {
      "metadata": {
        "id": "Jvw1kdBeasvZ",
        "colab_type": "code",
        "colab": {
          "base_uri": "https://localhost:8080/",
          "height": 34
        },
        "outputId": "63c7ad50-da5a-4931-aebd-571f24c2f74d"
      },
      "cell_type": "code",
      "source": [
        "'''\n",
        "p(A)=11/36\n",
        "p(B)=6/36\n",
        "p(A/B)=2/36\n",
        "\n",
        "p(B/A)=P(A∩B)/P(A)\n",
        "\n",
        "P(A∩B)=P(A/B)*p(B)/p(A)'''\n",
        "\n",
        "\n",
        "p_A=11/36\n",
        "p_B=6/36\n",
        "p_AB=2/36\n",
        "\n",
        "\n",
        "def prob(a,b,c):\n",
        "\n",
        "  p_BA= c*b/a\n",
        "  print(p_BA)\n",
        "                \n",
        "prob(p_A,p_B,p_AB)"
      ],
      "execution_count": 3,
      "outputs": [
        {
          "output_type": "stream",
          "text": [
            "0.0303030303030303\n"
          ],
          "name": "stdout"
        }
      ]
    },
    {
      "metadata": {
        "id": "-ZsqsUu2hLyL",
        "colab_type": "text"
      },
      "cell_type": "markdown",
      "source": [
        "Q.2 - Bag I contains 4 white and 6 black balls while another Bag II contains 4 white and 3 black balls. One ball is drawn at random from one of the bags and it is found to be black. Find the probability that it was drawn from Bag I."
      ]
    },
    {
      "metadata": {
        "id": "31dwDCraenp2",
        "colab_type": "code",
        "colab": {
          "base_uri": "https://localhost:8080/",
          "height": 34
        },
        "outputId": "07c6b447-4a34-4385-adb0-e13d722f407d"
      },
      "cell_type": "code",
      "source": [
        "'''probability  of bag1 = p(b1) = 1/2\n",
        "    probability of bag2 = p(b2) = 1/2\n",
        "  \n",
        "probability of black ball from b1 = p(black|b1) = 6/10\n",
        "                     b2 = p(black|b2) = 3/7\n",
        "  \n",
        "p(b1|black) = p(black|b1)p(b1)/{p(black|b1)p(b1) + p(black|b2)p(b2)}'''\n",
        "p =6/10*1/2 / (6/10*1/2 + 3/7*1/2)\n",
        "print(p)"
      ],
      "execution_count": 4,
      "outputs": [
        {
          "output_type": "stream",
          "text": [
            "0.5833333333333334\n"
          ],
          "name": "stdout"
        }
      ]
    },
    {
      "metadata": {
        "id": "Q1uTgrf5jYuZ",
        "colab_type": "text"
      },
      "cell_type": "markdown",
      "source": [
        "Q.3 - A man is known to speak truth 2 out of 3 times. He throws a die and reports that number obtained is a four. Find the probability that the number obtained is actually a four.\n"
      ]
    },
    {
      "metadata": {
        "id": "aBT62jtYhmd4",
        "colab_type": "code",
        "colab": {
          "base_uri": "https://localhost:8080/",
          "height": 34
        },
        "outputId": "df6c76a6-f256-4fdf-a059-fdfead3e10b8"
      },
      "cell_type": "code",
      "source": [
        "''' probability of 4 occuring = 1/6\n",
        "    probability of 4 not occuring = 5/6\n",
        "    \n",
        "    p of man reported 4 and it is actually a 4 = p(4|reported 4) = p(4)*p(reported 4|4) / {p(4)*p(reported 4|4) + p(not4)P(reported 4|not4)}\n",
        "    '''\n",
        "\n",
        "p = 1/6 * 2/3 / (1/6*2/3 + 5/6*1/3)\n",
        "print(p)"
      ],
      "execution_count": 5,
      "outputs": [
        {
          "output_type": "stream",
          "text": [
            "0.2857142857142857\n"
          ],
          "name": "stdout"
        }
      ]
    },
    {
      "metadata": {
        "id": "ZnMlc7FTjnEM",
        "colab_type": "code",
        "colab": {}
      },
      "cell_type": "code",
      "source": [
        ""
      ],
      "execution_count": 0,
      "outputs": []
    }
  ]
}